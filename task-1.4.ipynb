{
 "cells": [
  {
   "cell_type": "code",
   "execution_count": 1,
   "metadata": {
    "collapsed": false
   },
   "outputs": [],
   "source": [
    "import numpy as np\n",
    "import matplotlib.pyplot as plt\n",
    "%matplotlib inline"
   ]
  },
  {
   "cell_type": "code",
   "execution_count": 100,
   "metadata": {
    "collapsed": false
   },
   "outputs": [],
   "source": [
    "x = np.linspace(-1.5, 1.5, 2000)\n",
    "y = np.linspace(-1.5, 1.5, 2000)\n",
    "d = np.meshgrid(x, y)"
   ]
  },
  {
   "cell_type": "code",
   "execution_count": 101,
   "metadata": {
    "collapsed": false
   },
   "outputs": [
    {
     "name": "stdout",
     "output_type": "stream",
     "text": [
      "(2000, 2000)\n"
     ]
    },
    {
     "data": {
      "text/plain": [
       "array([[ 1.88988157,  1.88893663,  1.88799264, ...,  1.88799264,\n",
       "         1.88893663,  1.88988157],\n",
       "       [ 1.88893663,  1.88799075,  1.88704581, ...,  1.88704581,\n",
       "         1.88799075,  1.88893663],\n",
       "       [ 1.88799264,  1.88704581,  1.88609992, ...,  1.88609992,\n",
       "         1.88704581,  1.88799264],\n",
       "       ..., \n",
       "       [ 1.88799264,  1.88704581,  1.88609992, ...,  1.88609992,\n",
       "         1.88704581,  1.88799264],\n",
       "       [ 1.88893663,  1.88799075,  1.88704581, ...,  1.88704581,\n",
       "         1.88799075,  1.88893663],\n",
       "       [ 1.88988157,  1.88893663,  1.88799264, ...,  1.88799264,\n",
       "         1.88893663,  1.88988157]])"
      ]
     },
     "execution_count": 101,
     "metadata": {},
     "output_type": "execute_result"
    }
   ],
   "source": [
    "n = np.linalg.norm(d, ord=3, axis=0)\n",
    "print(n.shape)\n",
    "n"
   ]
  },
  {
   "cell_type": "code",
   "execution_count": 108,
   "metadata": {
    "collapsed": false
   },
   "outputs": [
    {
     "data": {
      "text/plain": [
       "(6244,)"
      ]
     },
     "execution_count": 108,
     "metadata": {},
     "output_type": "execute_result"
    }
   ],
   "source": [
    "xi, yi = np.where(np.isclose(n, 1, atol=1e-3))\n",
    "xi.shape"
   ]
  },
  {
   "cell_type": "code",
   "execution_count": 109,
   "metadata": {
    "collapsed": false
   },
   "outputs": [
    {
     "data": {
      "text/plain": [
       "<matplotlib.lines.Line2D at 0x10aae2400>"
      ]
     },
     "execution_count": 109,
     "metadata": {},
     "output_type": "execute_result"
    },
    {
     "data": {
      "image/png": "[encoded data removed]",
      "text/plain": [
       "<matplotlib.figure.Figure at 0x10a85dda0>"
      ]
     },
     "metadata": {},
     "output_type": "display_data"
    }
   ],
   "source": [
    "plt.plot(x[xi], y[yi], \".\")\n",
    "plt.vlines(0, 0, 0)\n",
    "plt.axis('equal')\n",
    "plt.axis([-1.5, 1.5, -1.5, 1.5])\n",
    "plt.grid()\n",
    "plt.axvline(x=0)\n",
    "plt.axhline(y=0)"
   ]
  }
 ],
 "metadata": {
  "kernelspec": {
   "display_name": "Python 3",
   "language": "python",
   "name": "python3"
  },
  "language_info": {
   "codemirror_mode": {
    "name": "ipython",
    "version": 3
   },
   "file_extension": ".py",
   "mimetype": "text/x-python",
   "name": "python",
   "nbconvert_exporter": "python",
   "pygments_lexer": "ipython3",
   "version": "3.4.3"
  }
 },
 "nbformat": 4,
 "nbformat_minor": 0
}
